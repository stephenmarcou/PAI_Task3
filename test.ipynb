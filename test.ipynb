{
 "cells": [
  {
   "cell_type": "code",
   "execution_count": null,
   "metadata": {},
   "outputs": [
    {
     "name": "stdout",
     "output_type": "stream",
     "text": [
      "(2,)\n"
     ]
    }
   ],
   "source": [
    "import numpy as np\n",
    "\n",
    "a = np.array([])\n",
    "\n",
    "\n",
    "a = np.append(a, np.array([1]))\n",
    "a = np.append(a, np.array([2]))\n",
    "print(a)"
   ]
  },
  {
   "cell_type": "code",
   "execution_count": 8,
   "metadata": {},
   "outputs": [
    {
     "name": "stderr",
     "output_type": "stream",
     "text": [
      "/Users/stephenmarcou/opt/anaconda3/lib/python3.9/site-packages/sklearn/gaussian_process/kernels.py:420: ConvergenceWarning: The optimal value found for dimension 0 of parameter k2__length_scale is close to the specified lower bound 1e-05. Decreasing the bound and calling fit again may find a better value.\n",
      "  warnings.warn(\n"
     ]
    },
    {
     "data": {
      "text/plain": [
       "array([0.])"
      ]
     },
     "execution_count": 8,
     "metadata": {},
     "output_type": "execute_result"
    }
   ],
   "source": [
    "from sklearn.gaussian_process import GaussianProcessRegressor\n",
    "from sklearn.gaussian_process.kernels import RBF, ConstantKernel as C, Matern\n",
    "import numpy as np\n",
    "\n",
    "\n",
    "gp = GaussianProcessRegressor(kernel=C(0.5)*RBF(length_scale=10))\n",
    "\n",
    "gp.fit(np.array([5,3,5]).reshape(-1,1), np.array([2,5,1]))\n",
    "\n",
    "gp.predict(np.array([4]).reshape(-1,1))\n",
    "\n"
   ]
  },
  {
   "cell_type": "code",
   "execution_count": null,
   "metadata": {},
   "outputs": [],
   "source": [
    "import numpy as np\n",
    "from sklearn.gaussian_process import GaussianProcessRegressor\n",
    "from sklearn.gaussian_process.kernels import RBF, Matern, ConstantKernel as C, LinearKernel\n",
    "\n",
    "# Define the Linear kernel\n",
    "linear_kernel = C(1.0, (1e-4, 1e1)) * LinearKernel()\n",
    "\n",
    "# Define the Matern kernel with nu=2.5\n",
    "matern_kernel = C(1.0, (1e-4, 1e1)) * Matern(length_scale=10, nu=2.5)\n",
    "\n",
    "# Define the RBF kernel with variance sqrt(2) and lengthscale=10\n",
    "rbf_kernel = C(np.sqrt(2), (1e-4, 1e1)) * RBF(length_scale=10)\n",
    "\n",
    "# Combine the kernels to form an additive kernel\n",
    "combined_kernel = linear_kernel + matern_kernel  # or combined_kernel = linear_kernel + rbf_kernel\n",
    "\n",
    "# Set prior mean to 4 (we can modify this by using the `constant` parameter)\n",
    "mean_prior = 4\n",
    "\n",
    "# Example data (X, y)\n",
    "X = np.array([[1], [2], [3], [4], [5]])\n",
    "y = np.array([4, 5, 6, 7, 8])\n",
    "\n",
    "# Create the Gaussian Process Regressor\n",
    "gp = GaussianProcessRegressor(kernel=combined_kernel, alpha=1e-2, n_restarts_optimizer=10)\n",
    "\n",
    "# Fit the model\n",
    "gp.fit(X, y)\n",
    "\n",
    "# Predict with prior mean\n",
    "y_pred, std_pred = gp.predict(X, return_std=True)\n",
    "\n",
    "print(\"Predictions:\", y_pred)\n",
    "print(\"Standard Deviation of Predictions:\", std_pred)\n"
   ]
  }
 ],
 "metadata": {
  "kernelspec": {
   "display_name": "base",
   "language": "python",
   "name": "python3"
  },
  "language_info": {
   "codemirror_mode": {
    "name": "ipython",
    "version": 3
   },
   "file_extension": ".py",
   "mimetype": "text/x-python",
   "name": "python",
   "nbconvert_exporter": "python",
   "pygments_lexer": "ipython3",
   "version": "3.9.13"
  }
 },
 "nbformat": 4,
 "nbformat_minor": 2
}
